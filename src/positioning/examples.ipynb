{
 "cells": [
  {
   "cell_type": "markdown",
   "metadata": {},
   "source": [
    "# A showcase of the different functionalities of the framework"
   ]
  },
  {
   "cell_type": "markdown",
   "metadata": {},
   "source": [
    "## Workflow"
   ]
  },
  {
   "cell_type": "markdown",
   "metadata": {},
   "source": [
    "- **Step 1: Gather the Test Inputs**\n",
    "  - The test session with all the pictures and coordinates\n",
    "  - The global coordinates of the device\n",
    "- **Step 2: check for relevant Reference data**\n",
    "  - use the global coordinates to find all the reference data that is geo-referenced close enough (GPS precision)\n",
    "- **Step 3: 2D Check**\n",
    "  - Compare all the test images against all the reference images\n",
    "  - Find which session has the highest match rate\n",
    "  - Find which Image has the highest match rate\n",
    "  - Calculate the transformation between the two images\n",
    "  - calculate the inverse transformation to give the test data a Reference global position\n",
    "- **Step 4: 3D Check**\n",
    "  - Compare the test mesh against relevant point clouds\n",
    "  - Compare the test mesh against BIM models\n",
    "  - Perform a CCP for the final alignment\n",
    "- **Step 5: Choosing final Position**\n",
    "  - Use the different results from all the methods to come to a best position\n",
    "  - Send the Position and rotation back to the device"
   ]
  },
  {
   "cell_type": "markdown",
   "metadata": {},
   "source": [
    "## Session Functionality\n",
    "A session contains all the data from the folder: the images, meshes and their locations. It also contains the geo-reference position and rotation"
   ]
  },
  {
   "cell_type": "markdown",
   "metadata": {},
   "source": [
    "### Importing and Selecting Sessions\n",
    "Sessions can either be directly imported from a path, or be selected from a parent directory based on the distance to the reference point."
   ]
  },
  {
   "cell_type": "code",
   "execution_count": null,
   "metadata": {},
   "outputs": [],
   "source": [
    "import numpy as np\n",
    "import session\n",
    "\n",
    "# you can import all the close enough sessions from a parent directory \n",
    "sessionsFolderLocation = \"/Volumes/GeomaticsProjects1/Projects/2025-03 Project FWO SB Jelle/7.Data/21-11 Testbuilding Campus/RAW Data\"\n",
    "referencePoint = np.array([0,0,0])\n",
    "maxDistance = 10\n",
    "sessions = session.find_close_sessions(sessionsFolderLocation, referencePoint, maxDistance)"
   ]
  },
  {
   "cell_type": "code",
   "execution_count": null,
   "metadata": {},
   "outputs": [],
   "source": [
    "# you can also import a single session from the directory\n",
    "sessionDirectory = \"/Volumes/GeomaticsProjects1/Projects/2025-03 Project FWO SB Jelle/7.Data/21-11 Testbuilding Campus/RAW Data/Hololens/session-2021-11-25 16-09-47\"\n",
    "singleSession = session.Session().from_path(sessionDirectory)\n",
    "print (singleSession.__dict__)"
   ]
  },
  {
   "cell_type": "markdown",
   "metadata": {},
   "source": [
    "### Bounding Area\n",
    "Each session has a bounding area to determine if the reference position is close enough to the data"
   ]
  },
  {
   "cell_type": "code",
   "execution_count": null,
   "metadata": {},
   "outputs": [],
   "source": [
    "boundingBox = singleSession.get_bounding_box()\n",
    "boundingRadius = singleSession.get_bounding_radius()\n",
    "\n",
    "print(\"The axis aligned bounding box (2x3 array) min and max corner points \", boundingBox)\n",
    "print (\"The bounding radius from the reference Center:\", boundingRadius)"
   ]
  },
  {
   "cell_type": "markdown",
   "metadata": {},
   "source": [
    "### Image transforms\n",
    "The image transform contains the Image file, and it's transform in session space"
   ]
  },
  {
   "cell_type": "code",
   "execution_count": null,
   "metadata": {},
   "outputs": [],
   "source": [
    "# an image transform is stored in \n",
    "image1 = singleSession.imageTransforms[0]\n",
    "print(image1.__dict__)"
   ]
  },
  {
   "cell_type": "markdown",
   "metadata": {},
   "source": [
    "#### The Image\n",
    "The image is stored as an openCV color image."
   ]
  },
  {
   "cell_type": "code",
   "execution_count": null,
   "metadata": {},
   "outputs": [],
   "source": [
    "from matplotlib import pyplot as plt\n",
    "import cv2\n",
    "\n",
    "cv2Image = image1.get_cv2_image()\n",
    "\n",
    "plt.imshow(cv2.cvtColor(cv2Image, cv2.COLOR_BGR2RGB))\n",
    "plt.title('cv2 Color Image')\n",
    "plt.show()"
   ]
  },
  {
   "cell_type": "markdown",
   "metadata": {},
   "source": [
    "### The Geometries"
   ]
  },
  {
   "cell_type": "code",
   "execution_count": null,
   "metadata": {},
   "outputs": [],
   "source": [
    "import positioning3D as pos3D\n",
    "import session\n",
    "\n",
    "sessionDirectory = \"/Volumes/Data drive/Documents/Doctoraat Local/PythonDataAlignment/src/positioning/images/session-2021-11-25 16-17-19\"\n",
    "singleSession = session.Session().from_path(sessionDirectory)\n",
    "#print(singleSession.geometries)\n",
    "pos3D.show_geometries(singleSession.geometries, True)"
   ]
  },
  {
   "cell_type": "markdown",
   "metadata": {},
   "source": [
    "## Positioning 2D Functionality\n",
    "All the different methods and functions to calculate the relative position of a Session using 2D data"
   ]
  },
  {
   "cell_type": "markdown",
   "metadata": {},
   "source": [
    "### Comparing Images\n",
    "2 images can be compared against each other to find the corresponding matches and quality of the match."
   ]
  },
  {
   "cell_type": "code",
   "execution_count": null,
   "metadata": {},
   "outputs": [],
   "source": [
    "#import 2 images from a session\n",
    "sessionDirectory = \"/Volumes/GeomaticsProjects1/Projects/2025-03 Project FWO SB Jelle/7.Data/21-11 Testbuilding Campus/RAW Data/Hololens/session-2021-11-25 16-09-47\"\n",
    "singleSession = session.Session().from_path(sessionDirectory)\n",
    "image1 = singleSession.imageTransforms[0]\n",
    "image2 = singleSession.imageTransforms[1]\n",
    "image3 = singleSession.imageTransforms[2]\n",
    "\n",
    "\n",
    "#Find the matches between the 2 images\n",
    "import compareImage as ci\n",
    "\n",
    "match = ci.ImageMatch(image1, image2)\n",
    "match.find_matches()\n",
    "match.draw_image_matches()"
   ]
  },
  {
   "cell_type": "markdown",
   "metadata": {},
   "source": [
    "### Comparing Sessions\n",
    "You can also compare 2 sessions to each other, depending"
   ]
  },
  {
   "cell_type": "code",
   "execution_count": null,
   "metadata": {},
   "outputs": [],
   "source": [
    "session2Directory = \"/Volumes/GeomaticsProjects1/Projects/2025-03 Project FWO SB Jelle/7.Data/21-11 Testbuilding Campus/RAW Data/Hololens/session-2021-11-25 16-17-19\"\n",
    "Session2 = session.Session().from_path(session2Directory)\n",
    "\n",
    "import positioning2D as pos2D\n",
    "\n",
    "bestResults = pos2D.compare_session(singleSession, Session2)\n",
    "\n",
    "print(bestResults.__dict__)"
   ]
  },
  {
   "cell_type": "markdown",
   "metadata": {},
   "source": [
    "### Calculating the Transformation matrix\n",
    "The transformation between 2 matched images can be determined using the Essential matrix."
   ]
  },
  {
   "cell_type": "code",
   "execution_count": null,
   "metadata": {},
   "outputs": [],
   "source": [
    "import compareImage as ci\n",
    "\n",
    "match = ci.ImageMatch(image1, image2)\n",
    "match.find_matches()\n",
    "match.calculate_transformation_matrix()"
   ]
  },
  {
   "cell_type": "markdown",
   "metadata": {},
   "source": [
    "### Triangulating the Camera Position\n",
    "When the transformation matrix is calculated, the next step is to determine the camera pose.\n",
    "Because the Essential matrix is correct up to a scale factor, that scale factor needs to be determined first."
   ]
  },
  {
   "cell_type": "markdown",
   "metadata": {},
   "source": [
    "#### Minimum distance between known points\n",
    "The first method requires 2 reference images and 1 test image. Since the location of the reference image is known and the direction of the test image is also determined, The location of the test image can be calculated by finding the minimal distance between the 2 estimated positions."
   ]
  },
  {
   "cell_type": "code",
   "execution_count": null,
   "metadata": {},
   "outputs": [],
   "source": [
    "import transform\n",
    "\n",
    "matchScore2, E2, imMatches2 = ci.compare_image(image1, image2)\n",
    "matchScore3, E3, imMatches3 = ci.compare_image(image1, image3)\n",
    "\n",
    "newPos, rot1, pos1, pos2, scale = transform.triangulate_session(image2, image3, E2, E3)\n",
    "\n",
    "print(\"Estimated position:\", newPos)\n",
    "print(\"Actual position:\", image1.pos)"
   ]
  },
  {
   "cell_type": "markdown",
   "metadata": {},
   "source": [
    "#### Incremental Matching\n",
    "Since the location of the reference images is known, we can calculate the feature scaling by matching 2 reference images. By then matching the test image to one of the matched images, the scale is already known."
   ]
  },
  {
   "cell_type": "code",
   "execution_count": null,
   "metadata": {},
   "outputs": [],
   "source": [
    "matchScore, E, imMatches = ci.compare_image(image2, image3)\n",
    "scale = transform.get_session_scale(image2, image3, E)\n",
    "\n",
    "matchScore, E, imMatches = ci.compare_image(image2, image1)\n",
    "direction, rotation = transform.get_translation(E)\n",
    "\n",
    "newPos = image2.pos + direction * scale\n",
    "\n",
    "print(\"The session scale :\", scale)\n",
    "print(\"Estimated position:\", newPos)\n",
    "print(\"Actual position:\", image1.pos)"
   ]
  },
  {
   "cell_type": "code",
   "execution_count": 2,
   "metadata": {},
   "outputs": [],
   "source": [
    "import cv2\n",
    "import session\n",
    "from matplotlib import pyplot as plt\n",
    "\n",
    "sessionDirectory = \"/Volumes/Data drive/Documents/Doctoraat Local/PythonDataAlignment/src/positioning/images/session-2021-11-25 16-09-47\"\n",
    "newSession = session.Session().from_path(sessionDirectory)\n",
    "\n",
    "image1 = newSession.imageTransforms[13]\n",
    "image2 = newSession.imageTransforms[14]\n"
   ]
  },
  {
   "cell_type": "code",
   "execution_count": 3,
   "metadata": {},
   "outputs": [
    {
     "data": {
      "image/png": "[encoded data removed]",
      "text/plain": [
       "<Figure size 432x288 with 1 Axes>"
      ]
     },
     "metadata": {
      "needs_background": "light"
     },
     "output_type": "display_data"
    }
   ],
   "source": [
    "#Find the matches between the 2 images\n",
    "import compareImage as ci\n",
    "\n",
    "match = ci.ImageMatch(image1, image2)\n",
    "match.find_matches()\n",
    "match.calculate_transformation_matrix()\n",
    "matchedImage = match.draw_image_matches()\n",
    "#correctKeypoints = match.get_keypoints_from_indices()\n",
    "\n",
    "\n",
    "plt.imshow(cv2.cvtColor(matchedImage, cv2.COLOR_BGR2RGB))\n",
    "plt.title('cv2 Color Image')\n",
    "plt.show()\n"
   ]
  },
  {
   "cell_type": "code",
   "execution_count": 16,
   "metadata": {},
   "outputs": [
    {
     "name": "stdout",
     "output_type": "stream",
     "text": [
      "[[-0.09826273 -0.93197453 -0.08534469]\n",
      " [-0.09242728 -0.9325287  -0.08534977]\n",
      " [-0.09316845 -0.9325035  -0.08534638]\n",
      " [-0.0748494   0.93641025  0.08406388]\n",
      " [-0.05238087  0.93740684  0.08438408]\n",
      " [ 0.36355832 -0.8786945  -0.07612187]\n",
      " [-0.01665587 -0.9374178  -0.08509271]\n",
      " [ 0.11318262 -0.9333245  -0.08349498]\n",
      " [-0.0073911   0.93805635  0.08487027]\n",
      " [-0.01849161  0.9380836   0.08476561]\n",
      " [-0.09903226 -0.9318935  -0.0853458 ]\n",
      " [-0.02199419  0.9380772   0.08472713]\n",
      " [-0.01904508 -0.9373459  -0.08510817]\n",
      " [-0.06454813 -0.9349579  -0.085315  ]\n",
      " [ 0.0123991   0.937793    0.08496246]\n",
      " [ 0.07177698 -0.93635315 -0.08416687]\n",
      " [ 0.3633734  -0.87876546 -0.07612447]\n",
      " [-0.06687141  0.9367861   0.08419545]\n",
      " [-0.06461246 -0.9349534  -0.08531513]\n",
      " [-0.03548862 -0.936788   -0.08518945]\n",
      " [-0.01090967  0.93808645  0.08483709]\n",
      " [-0.09644622 -0.93216527 -0.08534545]\n",
      " [-0.03415162 -0.9367393  -0.08520252]\n",
      " [ 0.36544013 -0.8780354  -0.07603845]\n",
      " [-0.06424502 -0.93498087 -0.08531415]\n",
      " [-0.20908935  0.9202066   0.0813082 ]\n",
      " [-0.06394462  0.93692267  0.0842355 ]\n",
      " [-0.06104427 -0.9352182  -0.08530391]\n",
      " [-0.01830785  0.93808985  0.08475562]\n",
      " [-0.0350522   0.9379512   0.08457339]\n",
      " [-0.2074572   0.9205913   0.08134826]\n",
      " [-0.01421011  0.938126    0.0847942 ]\n",
      " [-0.00768519 -0.9377421  -0.08501905]\n",
      " [-0.06326897 -0.93507075 -0.08530956]\n",
      " [ 0.0386961   0.93670607  0.08519369]\n",
      " [-0.05757257 -0.93547684 -0.08529221]\n",
      " [-0.03531168 -0.93669415 -0.08520701]\n",
      " [-0.05233138  0.9373967   0.08438902]\n",
      " [ 0.00310298  0.9379344   0.0849581 ]\n",
      " [-0.10163517 -0.9316169  -0.08534246]\n",
      " [-0.08388773  0.93587     0.08392692]\n",
      " [ 0.29049402 -0.9014602  -0.07888187]\n",
      " [-0.00626718 -0.9377702  -0.08500846]\n",
      " [ 0.07349702 -0.93627465 -0.08414053]\n",
      " [-0.09648163 -0.93215895 -0.08534648]\n",
      " [-0.03465556 -0.9367232  -0.08520243]\n",
      " [-0.05482982 -0.93566567 -0.08528111]\n",
      " [-0.08670685 -0.93309855 -0.08534818]\n",
      " [-0.01211343  0.9380909   0.08481482]\n",
      " [-0.07353202  0.936484    0.08408319]\n",
      " [-0.04389111 -0.93626386 -0.08524563]\n",
      " [-0.03260493 -0.93682534 -0.08519056]\n",
      " [-0.05486597 -0.9355923  -0.08529136]\n",
      " [-0.00908961  0.9381099   0.08484112]\n",
      " [ 0.00520422  0.9378489   0.08498056]\n",
      " [-0.01498458  0.93812984  0.0847857 ]\n",
      " [-0.11658568  0.9331561   0.08338979]\n",
      " [ 0.11329589 -0.93335193 -0.08348887]\n",
      " [-0.12431068  0.9323751   0.08325172]\n",
      " [-0.10264759  0.9344103   0.08363207]\n",
      " [ 0.0631002  -0.9367738  -0.0842889 ]\n",
      " [-0.03052368 -0.93691707 -0.08517899]\n",
      " [-0.00771038  0.9380982   0.08485458]\n",
      " [-0.09066153 -0.93272156 -0.08534884]\n",
      " [-0.0044836   0.93805885  0.08488722]]\n"
     ]
    }
   ],
   "source": [
    "import positioning3D as pos3D\n",
    "import open3d as o3d\n",
    "import numpy as np\n",
    "testPoints = match.testInliers.T\n",
    "refPoints = match.refInliers.T\n",
    "points3d = cv2.triangulatePoints(image1.get_projection_matrix(), image2.get_projection_matrix(),testPoints,refPoints)\n",
    "print(points3d[1:].T)\n",
    "pcd = o3d.geometry.PointCloud()\n",
    "pcd.points = o3d.utility.Vector3dVector(points3d[1:].T)\n",
    "pos3D.show_geometries([image1.get_camera_geometry(), image2.get_camera_geometry(), pcd])\n",
    "#pos3D.show_geometries([pcd])"
   ]
  },
  {
   "cell_type": "markdown",
   "metadata": {},
   "source": [
    "#### Using the 3D scene\n",
    "The session data might also contain 3D data, like a mesh or point cloud. They are also localized, so once the features are calculated for an image, a ray can be cast from a point to determine the global scale."
   ]
  },
  {
   "cell_type": "code",
   "execution_count": null,
   "metadata": {},
   "outputs": [],
   "source": [
    "import positioning3D\n",
    "\n"
   ]
  },
  {
   "cell_type": "markdown",
   "metadata": {},
   "source": [
    "## Positioning 3D Functionality\n",
    "Using mesh data to calculate the transformations, the pipeline uses open3D as the main framework for importing, displaying and matching geometry"
   ]
  },
  {
   "cell_type": "markdown",
   "metadata": {},
   "source": [
    "### Importing meshes and point clouds\n"
   ]
  },
  {
   "cell_type": "code",
   "execution_count": null,
   "metadata": {},
   "outputs": [],
   "source": [
    "import positioning3D as pos3D\n",
    "import open3d as o3d\n",
    "\n",
    "meshPath = \"/Volumes/Data drive/Documents/Doctoraat Local/PythonDataAlignment/src/positioning/images/ref/mesh-2021-11-25 16-16-01.obj\"\n",
    "mesh = pos3D.import_mesh(meshPath)\n",
    "pos3D.show_geometries([mesh])"
   ]
  },
  {
   "cell_type": "code",
   "execution_count": null,
   "metadata": {},
   "outputs": [],
   "source": [
    "import positioning3D as pos3D\n",
    "\n",
    "pcdPath = \"/Volumes/Data drive/Documents/Doctoraat Local/PythonDataAlignment/src/positioning/images/ref/S003-SW-002.ply\"\n",
    "pcd = pos3D.import_point_cloud(pcdPath)\n",
    "\n",
    "pos3D.show_geometries([pcd])"
   ]
  },
  {
   "cell_type": "markdown",
   "metadata": {},
   "source": [
    "#### Converting and Downsampling\n",
    "Meshes have to be converted to point clouds to extract features"
   ]
  },
  {
   "cell_type": "code",
   "execution_count": null,
   "metadata": {},
   "outputs": [],
   "source": [
    "meshPath = \"/Volumes/Data drive/Documents/Doctoraat Local/PythonDataAlignment/positioning/images/ref/mesh-2021-11-25 16-16-01.obj\"\n",
    "mesh = pos3D.import_mesh(meshPath)\n",
    "nrOfPoints = 10000\n",
    "superSampleFactor = 2\n",
    "pcd = pos3D.to_pcd(mesh, nrOfPoints, superSampleFactor)"
   ]
  },
  {
   "cell_type": "markdown",
   "metadata": {},
   "source": [
    "### Aligning Point clouds\n",
    "2 point clouds can be aligned using a FPFH 3D feature matching algorithm."
   ]
  },
  {
   "cell_type": "code",
   "execution_count": null,
   "metadata": {},
   "outputs": [],
   "source": [
    "import positioning3D as pos3D\n",
    "import copy\n",
    "\n",
    "pcd1 = pos3D.import_point_cloud(\"/Volumes/Data drive/Documents/Doctoraat Local/PythonDataAlignment/src/positioning/images/ref/pcd1.pcd\")\n",
    "#pcd2 = pos3D.import_point_cloud(\"/Volumes/Data drive/Documents/Doctoraat Local/PythonDataAlignment/src/positioning/images/ref/pcd2.pcd\")\n",
    "pcd2 = pos3D.import_point_cloud(\"/Volumes/Data drive/Documents/Doctoraat Local/PythonDataAlignment/src/positioning/images/ref/S003-SW-002.ply\")\n",
    "\n",
    "transformation = pos3D.get_pcd_transformation(pcd1, pcd2, 0.1)\n",
    "print(\"This is the estimated transformation: \\n\", transformation)\n",
    "movedPcd = copy.deepcopy(pcd1)\n",
    "movedPcd.transform(transformation)\n",
    "pos3D.show_geometries([pcd1,movedPcd, pcd2])"
   ]
  },
  {
   "cell_type": "markdown",
   "metadata": {},
   "source": [
    "## Global Alignment\n",
    "Once a number of estimated transformations are determined, you can compare them to find the best one"
   ]
  },
  {
   "cell_type": "markdown",
   "metadata": {},
   "source": [
    "## Full example\n",
    "This a a workflow example going over all the steps"
   ]
  },
  {
   "cell_type": "code",
   "execution_count": null,
   "metadata": {},
   "outputs": [],
   "source": [
    "import numpy as np\n",
    "import session\n",
    "\n",
    "referencePoint = np.array([0,0,0])\n",
    "maxDistance = 10\n",
    "\n",
    "testSessionDir = \"/Volumes/Data drive/Documents/Doctoraat Local/PythonDataAlignment/src/positioning/images/session-2021-11-25 16-17-19\"\n",
    "refSessionDir = \"/Volumes/Data drive/Documents/Doctoraat Local/PythonDataAlignment/src/positioning/images/session-2021-11-25 16-09-47\"\n",
    "testSession = session.Session().from_path(testSessionDir)\n",
    "referenceSession = session.Session().from_path(refSessionDir)\n",
    "closeEnoughSessions = [referenceSession]\n",
    "\n",
    "\n"
   ]
  },
  {
   "cell_type": "code",
   "execution_count": null,
   "metadata": {},
   "outputs": [],
   "source": [
    "#2D estimation\n",
    "import positioning2D as pos2D\n",
    "import transform\n",
    "\n",
    "ImageTransformations = pos2D.get_2D_transformation(testSession, closeEnoughSessions)\n",
    "\n",
    "for transformation in ImageTransformations:\n",
    "    print(\"These are the estimated transformations:\")\n",
    "    E2 = transformation[0].transMatrix\n",
    "    E3 = transformation[1].transMatrix\n",
    "    image2 = transformation[0].refImage\n",
    "    image3 = transformation[1].refImage\n",
    "    newPos, rot1, pos1, pos2, scale = transform.triangulate_session(image2, image3, E2, E3)\n",
    "\n",
    "    print(\"Estimated position:\", newPos)\n",
    "    print(\"Actual position:\", transformation[0].testImage.pos)"
   ]
  },
  {
   "cell_type": "code",
   "execution_count": null,
   "metadata": {},
   "outputs": [],
   "source": [
    "#3D estimation\n",
    "import positioning3D as pos3D\n",
    "\n",
    "MeshTransformation = pos3D.get_3D_transformation(testSession, closeEnoughSessions, 0.1)"
   ]
  },
  {
   "cell_type": "code",
   "execution_count": null,
   "metadata": {},
   "outputs": [],
   "source": [
    "\n",
    "import copy\n",
    "\n",
    "for transformations in MeshTransformation:\n",
    "    print(\"here are the estimated transformations:\")\n",
    "    for i, element in enumerate(transformations):\n",
    "        print(element)\n",
    "        transMesh = copy.deepcopy(testSession.geometries[0])\n",
    "        transMesh.transform(element)\n",
    "        pos3D.show_geometries([transMesh, closeEnoughSessions[0].geometries[i]])"
   ]
  },
  {
   "cell_type": "code",
   "execution_count": null,
   "metadata": {},
   "outputs": [],
   "source": [
    "transMesh = copy.deepcopy(testSession.geometries[0]).transform(element)\n",
    "pos3D.show_geometries([transMesh, closeEnoughSessions[0].geometries[0]])"
   ]
  },
  {
   "cell_type": "code",
   "execution_count": null,
   "metadata": {},
   "outputs": [],
   "source": [
    "import positioning3D as pos3D\n",
    "import numpy as np\n",
    "import copy\n",
    "\n",
    "meshPath = \"/Volumes/Data drive/Documents/Doctoraat Local/PythonDataAlignment/src/positioning/images/session-2021-11-25 16-17-19/mesh-2021-11-25 16-17-19.obj\"\n",
    "mesh = pos3D.import_mesh(meshPath)\n",
    "nrOfPoints = 100000\n",
    "superSampleFactor = 1\n",
    "pcdTest = pos3D.to_pcd(mesh, nrOfPoints, superSampleFactor)\n",
    "\n",
    "meshPath = \"/Volumes/Data drive/Documents/Doctoraat Local/PythonDataAlignment/src/positioning/images/session-2021-11-25 16-09-47/mesh-2021-11-25 16-16-01.obj\"\n",
    "mesh = pos3D.import_mesh(meshPath)\n",
    "nrOfPoints = 100000\n",
    "superSampleFactor = 1\n",
    "pcdRef = pos3D.to_pcd(mesh, nrOfPoints, superSampleFactor)\n",
    "\n",
    "#pcdRef = pos3D.import_point_cloud(\"/Volumes/Data drive/Documents/Doctoraat Local/PythonDataAlignment/src/positioning/images/ref/S003-SW-002.ply\")\n",
    "\n",
    "transformation = pos3D.get_pcd_transformation(pcdTest, pcdRef, 0.1)\n",
    "print(\"This is the estimated transformation: \\n\", transformation)\n",
    "movedPcd = copy.deepcopy(pcdTest)\n",
    "movedPcd.transform(transformation)\n",
    "pos3D.show_geometries([pcdTest,movedPcd, pcdRef],True)"
   ]
  }
 ],
 "metadata": {
  "interpreter": {
   "hash": "277d597ac5262525bb972cf35caa42eec0dd0b1ee2f46a31453e7fe567547464"
  },
  "kernelspec": {
   "display_name": "Python 3.8.8 64-bit ('env': venv)",
   "language": "python",
   "name": "python3"
  },
  "language_info": {
   "codemirror_mode": {
    "name": "ipython",
    "version": 3
   },
   "file_extension": ".py",
   "mimetype": "text/x-python",
   "name": "python",
   "nbconvert_exporter": "python",
   "pygments_lexer": "ipython3",
   "version": "3.8.8"
  },
  "orig_nbformat": 4
 },
 "nbformat": 4,
 "nbformat_minor": 2
}
