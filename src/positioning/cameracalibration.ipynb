{
 "cells": [
  {
   "cell_type": "code",
   "execution_count": null,
   "metadata": {},
   "outputs": [],
   "source": [
    "import numpy as np\n",
    "import cv2\n",
    "from matplotlib import pyplot as plt\n",
    "\n",
    "import session\n",
    "# termination criteria\n",
    "criteria = (cv2.TERM_CRITERIA_EPS + cv2.TERM_CRITERIA_MAX_ITER, 30, 0.001)\n",
    "# prepare object points, like (0,0,0), (1,0,0), (2,0,0) ....,(6,5,0)\n",
    "objp = np.zeros((7*7,3), np.float32)\n",
    "objp[:,:2] = np.mgrid[0:7,0:7].T.reshape(-1,2)\n",
    "\n",
    "objp *= 3\n",
    "# Arrays to store object points and image points from all the images.\n",
    "objpoints = [] # 3d point in real world space\n",
    "imgpoints = [] # 2d points in image plane.\n",
    "sessionPath = \"/Volumes/Public/Shared Files/KamerJelle/session-2022-03-04 11-41-13\"\n",
    "calibrationSession = session.Session().from_path(sessionPath)\n",
    "plt.rcParams['figure.dpi'] = 300\n",
    "\n",
    "for image in calibrationSession.imageTransforms:\n",
    "    print(\"Calibrating\", image.id)\n",
    "    gray = cv2.cvtColor(cv2.imread(image.path), cv2.COLOR_BGR2GRAY)\n",
    "    # Find the chess board corners\n",
    "    ret, corners = cv2.findChessboardCorners(gray, (7, 7), None)\n",
    "\n",
    "    #plt.imshow(gray)\n",
    "    #plt.show()\n",
    "\n",
    "    # If found, add object points, image points (after refining them)\n",
    "    if ret:\n",
    "        print(\"found Chessboard\")\n",
    "        objpoints.append(objp)\n",
    "\n",
    "        corners2 = cv2.cornerSubPix(gray, corners, (11, 11), (-1, -1), criteria)\n",
    "        imgpoints.append(corners2)\n",
    "        #imageDraw = cv2.imread(image.path)\n",
    "        #cv2.drawChessboardCorners(imageDraw, (7,7), corners2, ret)\n",
    "        #plt.imshow(cv2.cvtColor(imageDraw, cv2.COLOR_BGR2RGB))\n",
    "        #plt.title(\"Match3\")\n",
    "        #plt.show()\n",
    "\n",
    "    # Calibrate camera\n",
    "ret, mtx, dist, rvecs, tvecs = cv2.calibrateCamera(objpoints, imgpoints, gray.shape[::-1], None, None)\n",
    "\n",
    "print(ret,\"\\n\", mtx,\"\\n\", dist,\"\\n\", rvecs,\"\\n\", tvecs)\n",
    "\n",
    "print(\"intrinsic camera matrix: \\n\", mtx)"
   ]
  },
  {
   "cell_type": "code",
   "execution_count": null,
   "metadata": {},
   "outputs": [],
   "source": [
    "mean_error = 0\n",
    "for i in range(len(objpoints)):\n",
    "    imgpoints2, _ = cv2.projectPoints(objpoints[i], rvecs[i], tvecs[i], mtx, dist)\n",
    "    error = cv2.norm(imgpoints[i], imgpoints2, cv2.NORM_L2)/len(imgpoints2)\n",
    "    mean_error += error\n",
    "print( \"total error: {}\".format(mean_error/len(objpoints)) )"
   ]
  },
  {
   "cell_type": "code",
   "execution_count": null,
   "metadata": {},
   "outputs": [],
   "source": [
    "calibrationSession.imageTransforms[0].fov *=1\n",
    "print(calibrationSession.imageTransforms[0].get_camera_matrix())\n"
   ]
  },
  {
   "cell_type": "markdown",
   "metadata": {},
   "source": [
    "## Accuracy test\n",
    "Test the accuracy of the estimated camera matrix with the given coordinates of the cameras"
   ]
  },
  {
   "cell_type": "code",
   "execution_count": null,
   "metadata": {},
   "outputs": [],
   "source": [
    "testSessionPath = \"/Volumes/Data drive/Documents/Doctoraat Local/XR Paper Data/RefSessions/LivingLab/building big/session-2022-02-10\"\n",
    "\n",
    "import session\n",
    "testSession = session.Session().from_path(testSessionPath)"
   ]
  },
  {
   "cell_type": "code",
   "execution_count": null,
   "metadata": {},
   "outputs": [],
   "source": [
    "import session\n",
    "\n",
    "path = \"/Volumes/Data drive/Documents/Doctoraat Local/SfM_quality_evaluation/Benchmarking_Camera_Calibration_2008/castle-P19\"\n",
    "\n",
    "testSession = session.Session().benchMark_to_session(path)"
   ]
  },
  {
   "cell_type": "code",
   "execution_count": null,
   "metadata": {},
   "outputs": [],
   "source": [
    "# set the matrix with the fov\n",
    "imageFov = 57.6\n",
    "\n",
    "for image in testSession.imageTransforms:\n",
    "    image.fov = imageFov\n",
    "\n",
    "testSession.convert_axis(\"y\")"
   ]
  },
  {
   "cell_type": "code",
   "execution_count": null,
   "metadata": {},
   "outputs": [],
   "source": [
    "# set the image with the full matrix\n",
    "imageMatrix = mtx\n",
    "\n",
    "for image in testSession.imageTransforms:\n",
    "    image.cameraMatrix = imageMatrix\n",
    "\n",
    "testSession.convert_axis(\"y\")"
   ]
  },
  {
   "cell_type": "code",
   "execution_count": null,
   "metadata": {},
   "outputs": [],
   "source": [
    "image1 = testSession.imageTransforms[0]\n",
    "image2 = testSession.imageTransforms[1]\n",
    "\n",
    "import cv2\n",
    "from imagematch import ImageMatch\n",
    "from matplotlib import pyplot as plt\n",
    "\n",
    "# Displaying the matches\n",
    "match1 = ImageMatch(image1, image2)\n",
    "match1.find_matches()\n",
    "match1.get_essential_matrix()\n",
    "match1.get_reference_scaling_factor()\n",
    "match1.triangulate(True)\n",
    "\n",
    "match1Image = match1.draw_image_inliers()\n",
    "\n",
    "plt.rcParams['figure.dpi'] = 300\n",
    "plt.axis('off')\n",
    "plt.imshow(cv2.cvtColor(match1Image, cv2.COLOR_BGR2RGB))\n",
    "plt.title(\"Match1\")\n",
    "plt.show()"
   ]
  },
  {
   "cell_type": "code",
   "execution_count": null,
   "metadata": {},
   "outputs": [],
   "source": [
    "#plot the 3 images and a mesh\n",
    "\n",
    "import positioning3d as pos3d\n",
    "\n",
    "R,t = match1.get_image2_pos()\n",
    "\n",
    "pos3d.show_geometries([\n",
    "    #testImage.get_camera_geometry(), \n",
    "    image1.get_camera_geometry(), \n",
    "    image2.get_camera_geometry(),\n",
    "    pos3d.create_3d_camera(t,R, 1),\n",
    "    #testSession.geometries[0].geometry,\n",
    "    match1.get_point_cloud()\n",
    "], True)"
   ]
  }
 ],
 "metadata": {
  "interpreter": {
   "hash": "277d597ac5262525bb972cf35caa42eec0dd0b1ee2f46a31453e7fe567547464"
  },
  "kernelspec": {
   "display_name": "Python 3.8.8 ('env': venv)",
   "language": "python",
   "name": "python3"
  },
  "language_info": {
   "codemirror_mode": {
    "name": "ipython",
    "version": 3
   },
   "file_extension": ".py",
   "mimetype": "text/x-python",
   "name": "python",
   "nbconvert_exporter": "python",
   "pygments_lexer": "ipython3",
   "version": "3.8.8"
  },
  "orig_nbformat": 4
 },
 "nbformat": 4,
 "nbformat_minor": 2
}
