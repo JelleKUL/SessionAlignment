{
 "cells": [
  {
   "cell_type": "markdown",
   "metadata": {},
   "source": [
    "# Workflow\n",
    "## Step 1: Gather the Test Inputs\n",
    "### The test session with all the pictures and coordinates\n",
    "### The global coordinates of the device\n",
    "## Step 2: Check for relevant Reference data\n",
    "### use the global coordinates to find all the reference data that is georeferenced close enough (GPS presision)\n",
    "## Step 3: 2D Check\n",
    "### Compare all the test images against all the reference images\n",
    "### Find which session has the highest match rate\n",
    "### Find which Image has the highest match rate\n",
    "### Calculate the transformation between the two images\n",
    "### calculate the inverse transformation to give the test data a Reference global position\n",
    "## Step 4: 3D Check\n",
    "### compare the test mesh against relevant point clouds\n",
    "### Compare the test mesh against BIM models\n",
    "### Perform a CCP for the final alignment\n",
    "## Step 5: Choosing final Position\n",
    "### Use the different results from all the methods to come to a best position\n",
    "### Send the Position and rotation back to the device\n",
    "\n"
   ]
  },
  {
   "cell_type": "markdown",
   "metadata": {},
   "source": [
    "## Step 1: Gather the Test Inputs"
   ]
  },
  {
   "cell_type": "code",
   "execution_count": 39,
   "metadata": {},
   "outputs": [],
   "source": [
    "from cv2 import transform\n",
    "import numpy as np\n",
    "\n",
    "# These will be received by the server at a later stage in development\n",
    "testGlobalPosition = (0,0,0) # a tuple containing the global coordinates received by the locationSender app\n",
    "testGlobalAccuracy  = 20 # the global accuracy of the Coordinates sent by the locationSender app\n",
    "testSessionDirLocation = \"/Volumes/GeomaticsProjects1/Projects/2025-03 Project FWO SB Jelle/7.Data/21-07 House Trekweg/RAW Data/Hololens/Sessions/session-2021-10-12 14-28-27\" # The location of the test session\n",
    "# Reference Data\n",
    "referenceSessionDirLocation = \"/Volumes/GeomaticsProjects1/Projects/2025-03 Project FWO SB Jelle/7.Data/21-07 House Trekweg/RAW Data/Android\""
   ]
  },
  {
   "cell_type": "markdown",
   "metadata": {},
   "source": [
    "## Step 2: check for relevant Reference data"
   ]
  },
  {
   "cell_type": "code",
   "execution_count": 40,
   "metadata": {},
   "outputs": [
    {
     "name": "stdout",
     "output_type": "stream",
     "text": [
      "Found Session data: /Volumes/GeomaticsProjects1/Projects/2025-03 Project FWO SB Jelle/7.Data/21-07 House Trekweg/RAW Data/Android/sessions/session-2021-11-04 16-17-08/SessionData.json\n",
      "Reference global position: [-1 -7  0]\n",
      "Distance from coordinate: 7.0710678118654755\n",
      "session-2021-11-04 16-17-08 : is close enough\n",
      " \n",
      "Found Session data: /Volumes/GeomaticsProjects1/Projects/2025-03 Project FWO SB Jelle/7.Data/21-07 House Trekweg/RAW Data/Android/sessions/session-2021-11-04 16-41-00/SessionData.json\n",
      "Reference global position: [0 0 0]\n",
      "Distance from coordinate: 0.0\n",
      "session-2021-11-04 16-41-00 : is close enough\n",
      " \n",
      "Found Session data: /Volumes/GeomaticsProjects1/Projects/2025-03 Project FWO SB Jelle/7.Data/21-07 House Trekweg/RAW Data/Android/sessions/session-2021-11-04 16-46-29/SessionData.json\n",
      "Reference global position: [ 3  4 -8]\n",
      "Distance from coordinate: 9.433981132056603\n",
      "session-2021-11-04 16-46-29 : is close enough\n",
      " \n",
      "Found Session data: /Volumes/GeomaticsProjects1/Projects/2025-03 Project FWO SB Jelle/7.Data/21-07 House Trekweg/RAW Data/Android/sessions/session-2021-11-04 16-47-07/SessionData.json\n",
      "Reference global position: [2 7 0]\n",
      "Distance from coordinate: 7.280109889280518\n",
      "session-2021-11-04 16-47-07 : is close enough\n",
      " \n",
      "These are all the close enough sessions ['/Volumes/GeomaticsProjects1/Projects/2025-03 Project FWO SB Jelle/7.Data/21-07 House Trekweg/RAW Data/Android/sessions/session-2021-11-04 16-17-08/SessionData.json', '/Volumes/GeomaticsProjects1/Projects/2025-03 Project FWO SB Jelle/7.Data/21-07 House Trekweg/RAW Data/Android/sessions/session-2021-11-04 16-41-00/SessionData.json', '/Volumes/GeomaticsProjects1/Projects/2025-03 Project FWO SB Jelle/7.Data/21-07 House Trekweg/RAW Data/Android/sessions/session-2021-11-04 16-46-29/SessionData.json', '/Volumes/GeomaticsProjects1/Projects/2025-03 Project FWO SB Jelle/7.Data/21-07 House Trekweg/RAW Data/Android/sessions/session-2021-11-04 16-47-07/SessionData.json']\n"
     ]
    }
   ],
   "source": [
    "from findBestSessions import FindBestSessions\n",
    "closeEnoughSessions = FindBestSessions(referenceSessionDirLocation, np.array(testGlobalPosition), testGlobalAccuracy)"
   ]
  },
  {
   "cell_type": "markdown",
   "metadata": {},
   "source": [
    "## Step 3: 2D Check"
   ]
  },
  {
   "cell_type": "code",
   "execution_count": 64,
   "metadata": {},
   "outputs": [
    {
     "name": "stdout",
     "output_type": "stream",
     "text": [
      "3 reference Images found in: /Volumes/GeomaticsProjects1/Projects/2025-03 Project FWO SB Jelle/7.Data/21-07 House Trekweg/RAW Data/Android/sessions/session-2021-11-04 16-17-08\n",
      "4 test Images found in: /Volumes/GeomaticsProjects1/Projects/2025-03 Project FWO SB Jelle/7.Data/21-07 House Trekweg/RAW Data/Hololens/Sessions/session-2021-10-12 14-28-27\n",
      "1/12 checks complete\n",
      "2/12 checks complete\n",
      "3/12 checks complete\n",
      "4/12 checks complete\n",
      "5/12 checks complete\n",
      "6/12 checks complete\n",
      "7/12 checks complete\n",
      "8/12 checks complete\n",
      "9/12 checks complete\n",
      "10/12 checks complete\n",
      "11/12 checks complete\n",
      "12/12 checks complete\n",
      "This is the best image with 75 match amount\n",
      "Estimated homography : \n",
      " [[-1.18608206e-01  1.18793909e-02  3.43715839e+02]\n",
      " [-7.80889649e-02 -1.59215077e-02  2.54448397e+02]\n",
      " [-3.05678207e-04 -4.85877130e-05  1.00000000e+00]]\n",
      "6 reference Images found in: /Volumes/GeomaticsProjects1/Projects/2025-03 Project FWO SB Jelle/7.Data/21-07 House Trekweg/RAW Data/Android/sessions/session-2021-11-04 16-41-00\n",
      "4 test Images found in: /Volumes/GeomaticsProjects1/Projects/2025-03 Project FWO SB Jelle/7.Data/21-07 House Trekweg/RAW Data/Hololens/Sessions/session-2021-10-12 14-28-27\n",
      "1/24 checks complete\n",
      "2/24 checks complete\n",
      "3/24 checks complete\n",
      "4/24 checks complete\n",
      "5/24 checks complete\n",
      "6/24 checks complete\n",
      "7/24 checks complete\n",
      "8/24 checks complete\n",
      "9/24 checks complete\n",
      "10/24 checks complete\n",
      "11/24 checks complete\n",
      "12/24 checks complete\n",
      "13/24 checks complete\n",
      "14/24 checks complete\n",
      "15/24 checks complete\n",
      "16/24 checks complete\n",
      "17/24 checks complete\n",
      "18/24 checks complete\n",
      "19/24 checks complete\n",
      "20/24 checks complete\n",
      "21/24 checks complete\n",
      "22/24 checks complete\n",
      "23/24 checks complete\n",
      "24/24 checks complete\n",
      "This is the best image with 75 match amount\n",
      "Estimated homography : \n",
      " [[-6.81711034e-02 -5.86134953e-03  2.08935619e+02]\n",
      " [-1.01377716e-01 -8.67721576e-03  3.10626736e+02]\n",
      " [-3.26196766e-04 -2.82902516e-05  1.00000000e+00]]\n",
      "4 reference Images found in: /Volumes/GeomaticsProjects1/Projects/2025-03 Project FWO SB Jelle/7.Data/21-07 House Trekweg/RAW Data/Android/sessions/session-2021-11-04 16-46-29\n",
      "4 test Images found in: /Volumes/GeomaticsProjects1/Projects/2025-03 Project FWO SB Jelle/7.Data/21-07 House Trekweg/RAW Data/Hololens/Sessions/session-2021-10-12 14-28-27\n",
      "1/16 checks complete\n",
      "2/16 checks complete\n",
      "3/16 checks complete\n",
      "4/16 checks complete\n",
      "5/16 checks complete\n",
      "6/16 checks complete\n",
      "7/16 checks complete\n",
      "8/16 checks complete\n",
      "9/16 checks complete\n",
      "10/16 checks complete\n",
      "11/16 checks complete\n",
      "12/16 checks complete\n",
      "13/16 checks complete\n",
      "14/16 checks complete\n",
      "15/16 checks complete\n",
      "16/16 checks complete\n",
      "This is the best image with 75 match amount\n",
      "Estimated homography : \n",
      " [[-4.66044506e-02 -1.15442953e-01  2.53658493e+02]\n",
      " [-5.88623678e-02 -1.43403666e-01  3.19769544e+02]\n",
      " [-1.85641212e-04 -4.48354713e-04  1.00000000e+00]]\n",
      "5 reference Images found in: /Volumes/GeomaticsProjects1/Projects/2025-03 Project FWO SB Jelle/7.Data/21-07 House Trekweg/RAW Data/Android/sessions/session-2021-11-04 16-47-07\n",
      "4 test Images found in: /Volumes/GeomaticsProjects1/Projects/2025-03 Project FWO SB Jelle/7.Data/21-07 House Trekweg/RAW Data/Hololens/Sessions/session-2021-10-12 14-28-27\n",
      "1/20 checks complete\n",
      "2/20 checks complete\n",
      "3/20 checks complete\n",
      "4/20 checks complete\n",
      "5/20 checks complete\n",
      "6/20 checks complete\n",
      "7/20 checks complete\n",
      "8/20 checks complete\n",
      "9/20 checks complete\n",
      "10/20 checks complete\n",
      "11/20 checks complete\n",
      "12/20 checks complete\n",
      "13/20 checks complete\n",
      "14/20 checks complete\n",
      "15/20 checks complete\n",
      "16/20 checks complete\n",
      "17/20 checks complete\n",
      "18/20 checks complete\n",
      "19/20 checks complete\n",
      "20/20 checks complete\n",
      "This is the best image with 75 match amount\n",
      "Estimated homography : \n",
      " [[-3.25190522e-02  2.89814239e-02  6.82230000e+01]\n",
      " [-1.86586700e-01  1.70429605e-01  3.85908873e+02]\n",
      " [-4.82684367e-04  4.39293821e-04  1.00000000e+00]]\n"
     ]
    }
   ],
   "source": [
    "from compareImageSession import CompareImageSession\n",
    "from imageTransform import ImageTransform\n",
    "from bestResult import BestResult\n",
    "\n",
    "testSessionJsonPath = testSessionDirLocation + \"/SessionData.json\"\n",
    "bestResult = BestResult(0,0,0,0,0)\n",
    "bestRefImage = 0\n",
    "bestTestImage = 0\n",
    "bestSession = 0\n",
    "\n",
    "for referenceSession in closeEnoughSessions:\n",
    "    result,testImage,refImage = CompareImageSession(testSessionJsonPath, referenceSession)\n",
    "    if(result.matchAmount > bestResult.matchAmount):\n",
    "        bestResult = result\n",
    "        bestRefImage = refImage\n",
    "        bestTestImage = testImage\n",
    "        bestSession = referenceSession\n",
    "\n"
   ]
  },
  {
   "cell_type": "markdown",
   "metadata": {},
   "source": [
    "### Calculate the transformation"
   ]
  },
  {
   "cell_type": "code",
   "execution_count": 63,
   "metadata": {},
   "outputs": [
    {
     "name": "stdout",
     "output_type": "stream",
     "text": [
      "The reference Image Global position: [-1.5129 -6.915   0.0375]\n",
      "The reference Image Global rotation: quaternion(0.9291, -0.0294, -0.3682, -0.0182)\n",
      "The transformationMatrix: \n",
      "[[-1.18608206e-01  1.18793909e-02  3.43715839e+02]\n",
      " [-7.80889649e-02 -1.59215077e-02  2.54448397e+02]\n",
      " [-3.05678207e-04 -4.85877130e-05  1.00000000e+00]]\n",
      "The test Image local position: [ 0.0581 -0.1502  0.9954]\n",
      "The test Image Global position: [12.98664032  9.77005289  0.03829844]\n",
      "The Calculated test Global offset:[12.92854032  9.92025289 -0.95710156]\n",
      "[12.92854032  9.92025289 -0.95710156]\n"
     ]
    }
   ],
   "source": [
    "import importlib\n",
    "import getGlobalPositionOffset \n",
    "importlib.reload(getGlobalPositionOffset)\n",
    "from getGlobalPositionOffset import GetGlobalPositionOffset\n",
    "from transform import Transform\n",
    "import json\n",
    "\n",
    "refSessionJson = json.load(open(bestSession,))\n",
    "bestGlobalPosition = Transform(refSessionJson[\"sessionId\"],refSessionJson[\"globalPosition\"], refSessionJson[\"globalRotation\"], [1,1,1])\n",
    "\n",
    "newGlobalPosition =  GetGlobalPositionOffset(bestTestImage, bestRefImage, bestGlobalPosition, bestResult.transMatrix)\n",
    "\n",
    "print(newGlobalPosition)"
   ]
  }
 ],
 "metadata": {
  "interpreter": {
   "hash": "92ff35ce14cbf2a2ababcc16f5925725cceffcbfd0aceb687e33e4540bcefad0"
  },
  "kernelspec": {
   "display_name": "Python 3.9.0 64-bit ('env': venv)",
   "name": "python3"
  },
  "language_info": {
   "codemirror_mode": {
    "name": "ipython",
    "version": 3
   },
   "file_extension": ".py",
   "mimetype": "text/x-python",
   "name": "python",
   "nbconvert_exporter": "python",
   "pygments_lexer": "ipython3",
   "version": "3.9.0"
  },
  "orig_nbformat": 4
 },
 "nbformat": 4,
 "nbformat_minor": 2
}
