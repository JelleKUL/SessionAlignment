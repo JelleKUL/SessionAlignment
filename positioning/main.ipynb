{
 "cells": [
  {
   "cell_type": "markdown",
   "metadata": {},
   "source": [
    "# Workflow\n",
    "## Step 1: Gather the Test Inputs\n",
    "### The test session with all the pictures and coordinates\n",
    "### The global coordinates of the device\n",
    "## Step 2: Check for relevant Reference data\n",
    "### use the global coordinates to find all the reference data that is georeferenced close enough (GPS presision)\n",
    "## Step 3: 2D Check\n",
    "### Compare all the test images against all the reference images\n",
    "### Find which session has the highest match rate\n",
    "### Find which Image has the highest match rate\n",
    "### Calculate the transformation between the two images\n",
    "### calculate the inverse transformation to give the test data a Reference global position\n",
    "## Step 4: 3D Check\n",
    "### compare the test mesh against relevant point clouds\n",
    "### Compare the test mesh against BIM models\n",
    "### Perform a CCP for the final alignment\n",
    "## Step 5: Choosing final Position\n",
    "### Use the different results from all the methods to come to a best position\n",
    "### Send the Position and rotation back to the device\n",
    "\n"
   ]
  },
  {
   "cell_type": "markdown",
   "metadata": {},
   "source": [
    "## Step 1: Gather the Test Inputs"
   ]
  },
  {
   "cell_type": "code",
   "execution_count": 1,
   "metadata": {},
   "outputs": [],
   "source": [
    "import numpy as np\n",
    "\n",
    "# These will be received by the server at a later stage in development\n",
    "testGlobalPosition = (0,0,0) # a tuple containing the global coordinates received by the locationSender app\n",
    "testGlobalAccuracy  = 20 # the global accuracy of the Coordinates sent by the locationSender app\n",
    "testSessionDirLocation = \"/Volumes/GeomaticsProjects1/Projects/2025-03 Project FWO SB Jelle/7.Data/21-11 Testbuilding Campus/RAW Data/Hololens/session-2021-11-25 16-17-19\" # The location of the test session\n",
    "# Reference Data\n",
    "#referenceSessionsDirLocation = \"/Volumes/GeomaticsProjects1/Projects/2025-03 Project FWO SB Jelle/7.Data/21-11 Testbuilding Campus/RAW Data/android/session-2021-11-25 16-19-26\"\n",
    "referenceSessionsDirLocation = \"/Volumes/GeomaticsProjects1/Projects/2025-03 Project FWO SB Jelle/7.Data/21-11 Testbuilding Campus/RAW Data/Hololens/session-2021-11-25 16-09-47\""
   ]
  },
  {
   "cell_type": "markdown",
   "metadata": {},
   "source": [
    "## Step 2: check for relevant Reference data"
   ]
  },
  {
   "cell_type": "code",
   "execution_count": 2,
   "metadata": {},
   "outputs": [
    {
     "name": "stderr",
     "output_type": "stream",
     "text": [
      "/Volumes/Data drive/Documents/Doctoraat Local/PythonDataAlignment/env/lib/python3.9/site-packages/quaternion/numba_wrapper.py:23: UserWarning: \n",
      "\n",
      "!!!!!!!!!!!!!!!!!!!!!!!!!!!!!!!!!!!!!!!!!!!!!!!!!!!!!\n",
      "Could not import from numba, which means that some\n",
      "parts of this code may run MUCH more slowly.  You\n",
      "may wish to install numba.\n",
      "!!!!!!!!!!!!!!!!!!!!!!!!!!!!!!!!!!!!!!!!!!!!!!!!!!!!!\n",
      "\n",
      "  warnings.warn(warning_text)\n"
     ]
    },
    {
     "name": "stdout",
     "output_type": "stream",
     "text": [
      "Found Session data: /Volumes/GeomaticsProjects1/Projects/2025-03 Project FWO SB Jelle/7.Data/21-11 Testbuilding Campus/RAW Data/Hololens/session-2021-11-25 16-09-47/SessionData.json\n",
      "centerDistance = 0.0\n",
      "session-2021-11-25 16-09-47 : is close enough\n",
      "These are all the close enough sessions [<session.Session object at 0x10ae4b580>]\n"
     ]
    }
   ],
   "source": [
    "from session import find_close_sessions, Session\n",
    "closeEnoughSessions = find_close_sessions(referenceSessionsDirLocation, np.array(testGlobalPosition), testGlobalAccuracy)"
   ]
  },
  {
   "cell_type": "markdown",
   "metadata": {},
   "source": [
    "## Step 3: 2D Check"
   ]
  },
  {
   "cell_type": "code",
   "execution_count": 3,
   "metadata": {},
   "outputs": [
    {
     "name": "stdout",
     "output_type": "stream",
     "text": [
      "found matches\n",
      "got matrix\n",
      "1/54 checks complete\n",
      "found matches\n",
      "got matrix\n",
      "2/54 checks complete\n",
      "found matches\n",
      "got matrix\n",
      "3/54 checks complete\n",
      "found matches\n",
      "got matrix\n",
      "4/54 checks complete\n",
      "found matches\n",
      "got matrix\n",
      "5/54 checks complete\n",
      "found matches\n",
      "got matrix\n",
      "6/54 checks complete\n",
      "found matches\n",
      "got matrix\n",
      "7/54 checks complete\n",
      "found matches\n",
      "got matrix\n",
      "8/54 checks complete\n",
      "found matches\n",
      "got matrix\n",
      "9/54 checks complete\n",
      "found matches\n",
      "got matrix\n",
      "10/54 checks complete\n",
      "found matches\n",
      "got matrix\n",
      "11/54 checks complete\n",
      "found matches\n",
      "got matrix\n",
      "12/54 checks complete\n",
      "found matches\n",
      "got matrix\n",
      "13/54 checks complete\n",
      "found matches\n",
      "got matrix\n",
      "14/54 checks complete\n",
      "found matches\n",
      "got matrix\n",
      "15/54 checks complete\n",
      "found matches\n",
      "got matrix\n",
      "16/54 checks complete\n",
      "found matches\n",
      "got matrix\n",
      "17/54 checks complete\n",
      "found matches\n",
      "got matrix\n",
      "18/54 checks complete\n",
      "found matches\n",
      "got matrix\n",
      "19/54 checks complete\n",
      "found matches\n",
      "got matrix\n",
      "20/54 checks complete\n",
      "found matches\n",
      "got matrix\n",
      "21/54 checks complete\n",
      "found matches\n",
      "got matrix\n",
      "22/54 checks complete\n",
      "found matches\n",
      "got matrix\n",
      "23/54 checks complete\n",
      "found matches\n",
      "got matrix\n",
      "24/54 checks complete\n",
      "found matches\n",
      "got matrix\n",
      "25/54 checks complete\n",
      "found matches\n",
      "got matrix\n",
      "26/54 checks complete\n",
      "found matches\n",
      "got matrix\n",
      "27/54 checks complete\n",
      "found matches\n",
      "got matrix\n",
      "28/54 checks complete\n",
      "found matches\n",
      "got matrix\n",
      "29/54 checks complete\n",
      "found matches\n",
      "got matrix\n",
      "30/54 checks complete\n",
      "found matches\n",
      "got matrix\n",
      "31/54 checks complete\n",
      "found matches\n",
      "got matrix\n",
      "32/54 checks complete\n",
      "found matches\n",
      "got matrix\n",
      "33/54 checks complete\n",
      "found matches\n",
      "got matrix\n",
      "34/54 checks complete\n",
      "found matches\n",
      "got matrix\n",
      "35/54 checks complete\n",
      "found matches\n",
      "got matrix\n",
      "36/54 checks complete\n",
      "found matches\n",
      "got matrix\n",
      "37/54 checks complete\n",
      "found matches\n",
      "got matrix\n",
      "38/54 checks complete\n",
      "found matches\n",
      "got matrix\n",
      "39/54 checks complete\n",
      "found matches\n",
      "got matrix\n",
      "40/54 checks complete\n",
      "found matches\n",
      "got matrix\n",
      "41/54 checks complete\n",
      "found matches\n",
      "got matrix\n",
      "42/54 checks complete\n",
      "found matches\n",
      "got matrix\n",
      "43/54 checks complete\n",
      "found matches\n",
      "got matrix\n",
      "44/54 checks complete\n",
      "found matches\n",
      "got matrix\n",
      "45/54 checks complete\n",
      "found matches\n",
      "got matrix\n",
      "46/54 checks complete\n",
      "found matches\n",
      "got matrix\n",
      "47/54 checks complete\n",
      "found matches\n",
      "got matrix\n",
      "48/54 checks complete\n",
      "found matches\n",
      "got matrix\n",
      "49/54 checks complete\n",
      "found matches\n",
      "got matrix\n",
      "50/54 checks complete\n",
      "found matches\n",
      "got matrix\n",
      "51/54 checks complete\n",
      "found matches\n",
      "got matrix\n",
      "52/54 checks complete\n",
      "found matches\n",
      "got matrix\n",
      "53/54 checks complete\n",
      "found matches\n",
      "got matrix\n",
      "54/54 checks complete\n",
      "These are the 2 best results:\n",
      "{'testImage': <transform.ImageTransform object at 0x1329830a0>, 'refImage': <transform.ImageTransform object at 0x1329393a0>, 'transMatrix': array([[ 20.03993289, -37.60201185,  -4.12159737],\n",
      "       [-43.36041874,  80.51877534,   5.99889161],\n",
      "       [ -5.03939016,   9.32772746,   0.59219262]]), 'matchScore': 61.96}\n",
      "{'testImage': <transform.ImageTransform object at 0x1329830a0>, 'refImage': <transform.ImageTransform object at 0x132920fd0>, 'transMatrix': array([[-11.91489746,  25.73715461,   7.8231294 ],\n",
      "       [-33.89895562,   7.74114978, -22.35958144],\n",
      "       [-10.79093813,  13.86538436,   0.65053778]]), 'matchScore': 63.65}\n"
     ]
    },
    {
     "ename": "TypeError",
     "evalue": "cannot unpack non-iterable NoneType object",
     "output_type": "error",
     "traceback": [
      "\u001b[0;31m---------------------------------------------------------------------------\u001b[0m",
      "\u001b[0;31mTypeError\u001b[0m                                 Traceback (most recent call last)",
      "\u001b[0;32m/var/folders/38/dmzv97j14vl0p4m15qn73pbw0000gn/T/ipykernel_5477/4029941045.py\u001b[0m in \u001b[0;36m<module>\u001b[0;34m\u001b[0m\n\u001b[1;32m      3\u001b[0m \u001b[0mtestSession\u001b[0m \u001b[0;34m=\u001b[0m \u001b[0mSession\u001b[0m\u001b[0;34m(\u001b[0m\u001b[0;34m)\u001b[0m\u001b[0;34m.\u001b[0m\u001b[0mfrom_path\u001b[0m\u001b[0;34m(\u001b[0m\u001b[0mtestSessionDirLocation\u001b[0m\u001b[0;34m)\u001b[0m\u001b[0;34m\u001b[0m\u001b[0;34m\u001b[0m\u001b[0m\n\u001b[1;32m      4\u001b[0m \u001b[0;31m# compare all the reference sessions against the test session and return the transformation from the\u001b[0m\u001b[0;34m\u001b[0m\u001b[0;34m\u001b[0m\u001b[0;34m\u001b[0m\u001b[0m\n\u001b[0;32m----> 5\u001b[0;31m \u001b[0moffsetPos\u001b[0m\u001b[0;34m,\u001b[0m \u001b[0moffsetRot\u001b[0m \u001b[0;34m=\u001b[0m \u001b[0mget_2D_transformation\u001b[0m\u001b[0;34m(\u001b[0m\u001b[0mtestSession\u001b[0m\u001b[0;34m,\u001b[0m\u001b[0mcloseEnoughSessions\u001b[0m\u001b[0;34m)\u001b[0m\u001b[0;34m\u001b[0m\u001b[0;34m\u001b[0m\u001b[0m\n\u001b[0m",
      "\u001b[0;31mTypeError\u001b[0m: cannot unpack non-iterable NoneType object"
     ]
    }
   ],
   "source": [
    "from positioning2D import get_2D_transformation\n",
    "# create the test session object\n",
    "testSession = Session().from_path(testSessionDirLocation)\n",
    "# compare all the reference sessions against the test session and return the transformation from the \n",
    "offsetPos, offsetRot = get_2D_transformation(testSession,closeEnoughSessions)"
   ]
  },
  {
   "cell_type": "markdown",
   "metadata": {},
   "source": [
    "### Calculate the transformation"
   ]
  },
  {
   "cell_type": "code",
   "execution_count": null,
   "metadata": {},
   "outputs": [],
   "source": [
    "import importlib\n",
    "import getGlobalPositionOffset \n",
    "importlib.reload(getGlobalPositionOffset)\n",
    "from getGlobalPositionOffset import GetGlobalPositionOffset\n",
    "from transform import Transform\n",
    "import json\n",
    "\n",
    "refSessionJson = json.load(open(bestSession,))\n",
    "bestGlobalPosition = Transform(refSessionJson[\"sessionId\"],refSessionJson[\"globalPosition\"], refSessionJson[\"globalRotation\"], [1,1,1])\n",
    "\n",
    "newGlobalPosition =  GetGlobalPositionOffset(bestTestImage, bestRefImage, bestGlobalPosition, bestResult.transMatrix)\n",
    "\n",
    "print(newGlobalPosition)"
   ]
  }
 ],
 "metadata": {
  "interpreter": {
   "hash": "92ff35ce14cbf2a2ababcc16f5925725cceffcbfd0aceb687e33e4540bcefad0"
  },
  "kernelspec": {
   "display_name": "Python 3.9.0 64-bit ('env': venv)",
   "name": "python3"
  },
  "language_info": {
   "codemirror_mode": {
    "name": "ipython",
    "version": 3
   },
   "file_extension": ".py",
   "mimetype": "text/x-python",
   "name": "python",
   "nbconvert_exporter": "python",
   "pygments_lexer": "ipython3",
   "version": "3.9.0"
  },
  "orig_nbformat": 4
 },
 "nbformat": 4,
 "nbformat_minor": 2
}
